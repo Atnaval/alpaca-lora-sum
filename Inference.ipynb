{
 "cells": [
  {
   "cell_type": "code",
   "execution_count": null,
   "id": "47029ea0-7341-4d0f-9519-eab98c9dca5a",
   "metadata": {
    "tags": []
   },
   "outputs": [],
   "source": [
    "import os\n",
    "import sys\n",
    "os.environ[\"TRANSFORMERS_CACHE\"] = \"/workspace/cache/\"\n",
    "os.environ[\"CUDA_VISIBLE_DEVICES\"] = \"0\"\n",
    "\n",
    "import torch\n",
    "from torch.nn import DataParallel\n",
    "from utils.prompter import Prompter\n",
    "from time import time\n",
    "from time import perf_counter\n",
    "from peft import PeftModel\n",
    "import json\n",
    "\n",
    "from transformers import LlamaForCausalLM, LlamaTokenizer, GenerationConfig, BitsAndBytesConfig"
   ]
  },
  {
   "cell_type": "code",
   "execution_count": null,
   "id": "57b90b53-e3d7-4717-a3ba-869de4129602",
   "metadata": {
    "tags": []
   },
   "outputs": [],
   "source": [
    "tokenizer = LlamaTokenizer.from_pretrained(\"hf-internal-testing/llama-tokenizer\")\n",
    "print(\"loading model\")\n",
    "model = LlamaForCausalLM.from_pretrained(\"decapoda-research/llama-30b-hf\",\n",
    "       load_in_8bit=True,\n",
    "        device_map='auto',\n",
    "        torch_dtype=torch.bfloat16,\n",
    "    )\n",
    "print(\"loaded peft\")\n",
    "model = PeftModel.from_pretrained(\n",
    "            model,\n",
    "            \"./model/checkpoint-300\",\n",
    "            torch_dtype=torch.float16)\n",
    "### model.eval()\n",
    "if torch.__version__ >= \"2\" and sys.platform != \"win32\":\n",
    "    model = torch.compile(model)\n",
    "prompter = Prompter(\"sum\")"
   ]
  },
  {
   "cell_type": "code",
   "execution_count": null,
   "id": "d6374bf1-ce6c-47a1-b8a0-8293ef150af0",
   "metadata": {
    "tags": []
   },
   "outputs": [],
   "source": [
    "def inference(input_ids, model):\n",
    "    generation_config = GenerationConfig(\n",
    "        temperature=0,\n",
    "        top_p=0.75,\n",
    "        use_cache=False,\n",
    "        do_sample=True\n",
    "    )\n",
    "    now = time()\n",
    "    with torch.no_grad():\n",
    "        generation_output = model.generate(\n",
    "            input_ids=input_ids,\n",
    "            generation_config=generation_config,\n",
    "            return_dict_in_generate=True,\n",
    "            output_scores=True,\n",
    "            max_new_tokens=100,\n",
    "        )\n",
    "    duration = time() - now\n",
    "    try:\n",
    "        s = generation_output.sequences[0]\n",
    "    except:\n",
    "        s = generation_output[0]\n",
    "\n",
    "    tks = (s.shape[0] - input_ids.shape[1])/duration\n",
    "    print(f\"{tks} tokens/s\")\n",
    "    print(f\"{1/tks} tokens/s\")\n",
    "    output = tokenizer.decode(s)\n",
    "    res = prompter.get_response(output)\n",
    "    return res"
   ]
  },
  {
   "cell_type": "code",
   "execution_count": null,
   "id": "919e166a-1432-47d8-82bf-b69186cde606",
   "metadata": {
    "tags": []
   },
   "outputs": [],
   "source": [
    "with open(\"eval.json\", \"r\") as f:\n",
    "    eval = json.load(f)\n",
    "\n",
    "for i in len(eval):\n",
    "    input = eval[i]\n",
    "    instruction = \"Résume ce texte issue d'un cours de droit en conservant les dates, les abréviations et les principes importants.\"\n",
    "    prompt = prompter.generate_prompt(instruction, input)\n",
    "    inputs = tokenizer(prompt, return_tensors=\"pt\")\n",
    "    input_ids = inputs.input_ids.to(\"cuda\")\n",
    "    res = inference(input_ids, model)\n",
    "    print(res)\n",
    "    print(\"##############################################\")\n"
   ]
  },
  {
   "cell_type": "code",
   "execution_count": null,
   "id": "a46c3d25-26bf-4c9c-9ea6-5f7891a5ac85",
   "metadata": {},
   "outputs": [],
   "source": []
  }
 ],
 "metadata": {
  "kernelspec": {
   "display_name": "Python 3 (ipykernel)",
   "language": "python",
   "name": "python3"
  },
  "language_info": {
   "codemirror_mode": {
    "name": "ipython",
    "version": 3
   },
   "file_extension": ".py",
   "mimetype": "text/x-python",
   "name": "python",
   "nbconvert_exporter": "python",
   "pygments_lexer": "ipython3",
   "version": "3.10.6"
  }
 },
 "nbformat": 4,
 "nbformat_minor": 5
}
