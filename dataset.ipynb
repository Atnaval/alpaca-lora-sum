{
 "cells": [
  {
   "cell_type": "code",
   "execution_count": 1,
   "id": "548583fa-597a-490c-844d-66d86684445b",
   "metadata": {
    "tags": []
   },
   "outputs": [],
   "source": [
    "import json\n",
    "from utils.prompter import Prompter"
   ]
  },
  {
   "cell_type": "code",
   "execution_count": 2,
   "id": "1f8a00a2-4f1a-46ff-b9b1-fe464d2da6c9",
   "metadata": {
    "tags": []
   },
   "outputs": [],
   "source": [
    "with open(\"llama-dataset-2023-05-03.json\", \"r\") as f:\n",
    "    dataset = json.load(f)"
   ]
  },
  {
   "cell_type": "code",
   "execution_count": 10,
   "id": "8e547c72-e0bb-4295-891b-3c6f7125b88f",
   "metadata": {
    "tags": []
   },
   "outputs": [],
   "source": [
    "dataset = dataset[:10000]\n",
    "with open(\"llama-dataset-2023-05-03_10k.json\", \"w\") as f:\n",
    "    json.dump(dataset, f)"
   ]
  },
  {
   "cell_type": "code",
   "execution_count": 7,
   "id": "15e2f9c4-6828-4901-b12d-9ae8da819898",
   "metadata": {
    "tags": []
   },
   "outputs": [],
   "source": [
    "prompter = Prompter(\"sum\")"
   ]
  },
  {
   "cell_type": "code",
   "execution_count": 11,
   "id": "99d746f5-6cb4-4a6f-ae7d-efa0a49f9dbc",
   "metadata": {
    "tags": []
   },
   "outputs": [
    {
     "name": "stdout",
     "output_type": "stream",
     "text": [
      "Texte:\n",
      "\n",
      "Elle se présente comme une révision de la clause de révision de la Constitution de 1946 c’est-à-dire la méthode dont on révise la constitution. La clause initiale était relativement classique. Disparait toutes les modalités de révision de la constitution d 1946. L’article 90 de la constitution de 1946 est supprimée. La loi constitutionnelle du 3 juin 1958 fait l’objet d’un consensus. Elle est adoptée à l’Assemblée nationale par 350 contre 163 voix. Parallèlement elle est adoptée par le conseil de la république à 356 voix contre 70 voix. Vu qu’elle est adoptée à la majorité au Parlement, elle n’a pas besoin d’être soumise à la procédure de référendum. On encadre ce pouvoir en lui imposant de recevoir deux avis sur ce projet de constitution. Un avis politique, d’un comité consultatif constitutionnel, il est composé au 2/3 de parlementaires. 1/3 est désigné par le gouvernement et un avis technique ou le projet doit retenir l’avis du conseil d’état. \n",
      "La loi constitutionnelle pose 5 grands principes que devra respecter et mettre en œuvre la future constitution :\n",
      "- Le suffrage universel doit être source de tout pouvoir \n",
      "-La séparation des pouvoirs législatif et exécutif\n",
      "-Indépendance de l’autorité judiciaire \n",
      "-La responsabilité du gouvernement devant le parlement (cette condition entraine la mise en œuvre d’un régime parlementaire)\n",
      "-L’établissement de nouveaux rapport avec les peuples associés à la république \n",
      "Cette loi fixe également la procédure dérogatoire d’adoption de la nouvelle Constitution. Le gouvernement se voit donc confier une tache très importante. Il doit aussi recueillir les deux avis, purement consultatif. Le peuple doit ensuite voter le projet.\n",
      "\n",
      "Résume ce texte issue d'un cours de droit en conservant les dates, les abréviations et les principes importants.\n",
      "\n",
      "###\n",
      "\n",
      "La loi constitutionnelle du 3 juin 1958 remplace la clause de révision de la Constitution de 1946. Elle est adoptée à l'Assemblée nationale par 350 voix contre 163 et au Conseil de la République par 356 voix contre 70. Elle ne nécessite pas de procédure de référendum. Elle impose deux avis, un politique (d'un comité consultatif composé de 2/3 de parlementaires et 1/3 désigné par le gouvernement) et un technique (du Conseil d'État). Elle établit 5 principes à respecter: suffrage universel, séparation des pouvoirs, indépendance judiciaire, responsabilité du gouvernement devant le Parlement et nouveaux rapports avec les peuples associés. La procédure dérogatoire d'adoption de la nouvelle Constitution est confiée au gouvernement qui doit recueillir les deux avis et soumettre le projet au vote du peuple.\n"
     ]
    }
   ],
   "source": [
    "data_point = dataset[4]\n",
    "print(prompter.generate_prompt(\n",
    "            data_point[\"instruction\"],\n",
    "            data_point[\"input\"],\n",
    "            data_point[\"output\"],\n",
    "        ))"
   ]
  },
  {
   "cell_type": "code",
   "execution_count": null,
   "id": "129b709f-759a-404b-94a2-bfabc13bb621",
   "metadata": {},
   "outputs": [],
   "source": []
  }
 ],
 "metadata": {
  "kernelspec": {
   "display_name": "Python 3 (ipykernel)",
   "language": "python",
   "name": "python3"
  },
  "language_info": {
   "codemirror_mode": {
    "name": "ipython",
    "version": 3
   },
   "file_extension": ".py",
   "mimetype": "text/x-python",
   "name": "python",
   "nbconvert_exporter": "python",
   "pygments_lexer": "ipython3",
   "version": "3.10.10"
  }
 },
 "nbformat": 4,
 "nbformat_minor": 5
}
