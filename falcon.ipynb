{
 "cells": [
  {
   "cell_type": "code",
   "execution_count": 1,
   "id": "ce9204fc-9735-40f4-b9c0-11e46278024f",
   "metadata": {
    "tags": []
   },
   "outputs": [],
   "source": [
    "import os\n",
    "os.environ[\"TRANSFORMERS_CACHE\"] = \"/workspace/cache/\"\n",
    "from transformers import AutoTokenizer, AutoModelForCausalLM, BitsAndBytesConfig, GenerationConfig\n",
    "import transformers\n",
    "import torch\n",
    "import time"
   ]
  },
  {
   "cell_type": "code",
   "execution_count": 2,
   "id": "f4016e18-4109-4f22-a32f-ac3e81e5afa0",
   "metadata": {
    "tags": []
   },
   "outputs": [
    {
     "data": {
      "application/vnd.jupyter.widget-view+json": {
       "model_id": "74dfbb58b75646dfae8755281d8f557c",
       "version_major": 2,
       "version_minor": 0
      },
      "text/plain": [
       "Loading checkpoint shards:   0%|          | 0/2 [00:00<?, ?it/s]"
      ]
     },
     "metadata": {},
     "output_type": "display_data"
    },
    {
     "name": "stderr",
     "output_type": "stream",
     "text": [
      "The model 'RWForCausalLM' is not supported for text-generation. Supported models are ['BartForCausalLM', 'BertLMHeadModel', 'BertGenerationDecoder', 'BigBirdForCausalLM', 'BigBirdPegasusForCausalLM', 'BioGptForCausalLM', 'BlenderbotForCausalLM', 'BlenderbotSmallForCausalLM', 'BloomForCausalLM', 'CamembertForCausalLM', 'CodeGenForCausalLM', 'CpmAntForCausalLM', 'CTRLLMHeadModel', 'Data2VecTextForCausalLM', 'ElectraForCausalLM', 'ErnieForCausalLM', 'GitForCausalLM', 'GPT2LMHeadModel', 'GPT2LMHeadModel', 'GPTBigCodeForCausalLM', 'GPTNeoForCausalLM', 'GPTNeoXForCausalLM', 'GPTNeoXJapaneseForCausalLM', 'GPTJForCausalLM', 'LlamaForCausalLM', 'MarianForCausalLM', 'MBartForCausalLM', 'MegaForCausalLM', 'MegatronBertForCausalLM', 'MvpForCausalLM', 'OpenLlamaForCausalLM', 'OpenAIGPTLMHeadModel', 'OPTForCausalLM', 'PegasusForCausalLM', 'PLBartForCausalLM', 'ProphetNetForCausalLM', 'QDQBertLMHeadModel', 'ReformerModelWithLMHead', 'RemBertForCausalLM', 'RobertaForCausalLM', 'RobertaPreLayerNormForCausalLM', 'RoCBertForCausalLM', 'RoFormerForCausalLM', 'RwkvForCausalLM', 'Speech2Text2ForCausalLM', 'TransfoXLLMHeadModel', 'TrOCRForCausalLM', 'XGLMForCausalLM', 'XLMWithLMHeadModel', 'XLMProphetNetForCausalLM', 'XLMRobertaForCausalLM', 'XLMRobertaXLForCausalLM', 'XLNetLMHeadModel', 'XmodForCausalLM'].\n"
     ]
    }
   ],
   "source": [
    "model = \"tiiuae/falcon-7b\"\n",
    "\n",
    "tokenizer = AutoTokenizer.from_pretrained(model)\n",
    "pipeline = transformers.pipeline(\n",
    "    \"text-generation\",\n",
    "    model=model,\n",
    "    tokenizer=tokenizer,\n",
    "    torch_dtype=torch.float16,\n",
    "    trust_remote_code=True,\n",
    "    device_map=\"auto\",\n",
    ")\n",
    "\n",
    "#model = AutoModelForCausalLM.from_pretrained(model,\n",
    "#        #load_in_4bit=True,\n",
    "#        device_map='auto',\n",
    "#        torch_dtype=torch.float16,\n",
    "#        trust_remote_code=True,\n",
    "#        quantization_config=BitsAndBytesConfig(\n",
    "#            load_in_4bit=True,\n",
    "#            bnb_4bit_compute_dtype=torch.bfloat16,\n",
    "#            bnb_4bit_use_double_quant=True,\n",
    "#            bnb_4bit_quant_type='nf4'\n",
    "#        ),\n",
    "#)"
   ]
  },
  {
   "cell_type": "code",
   "execution_count": 6,
   "id": "e8f3c0cc-4c50-4061-aef3-a8a4aa791838",
   "metadata": {
    "tags": []
   },
   "outputs": [
    {
     "name": "stderr",
     "output_type": "stream",
     "text": [
      "Setting `pad_token_id` to `eos_token_id`:11 for open-end generation.\n"
     ]
    },
    {
     "name": "stdout",
     "output_type": "stream",
     "text": [
      "Result: What is ‘Gut Microbiome’ and Why is it Important?\n",
      "The microbiome is a term used to describe all living microorganisms, or bacteria, that live in or on our bodies. These microbes are present everywhere and are found all over the body — from our skin to our hair to our intestines.\n",
      "The term microbiome is often used interchangeably with the term gut microbiome and is commonly associated with the gastrointestinal tract. It’s the name we give to all of the microbes and bacteria that exist in our large intestine and colon. The gut microbiome is home to trillions of microorganisms. It’s estimated that there are more than 100 trillion microbes in the human body, with at least 40 trillion of those microbes living in the gut alone.\n",
      "The bacteria found within our gut are essential for many reasons — they help us to break down our food and absorb important nutrients, they regulate our immune system functions, and they protect the body from infection. It’s no surprise that we have an intimate relationship with our microbiota.\n",
      "The gut microbiome and the immune system have been in a relationship like Romeo and Juliet — they are inseparable.\n",
      "What is the Microbiome-Gut Axis?\n",
      "In 2012, the National Institutes of Health (NIH) announced the discovery of the gut-brain axis, which is responsible for the connection between the digestive and nervous systems. The gastrointestinal tract, also known as the gut, has the highest concentration of nerve fibers in the body.\n",
      "When the gut is unhealthy, a condition known as gut dysbiosis, it can cause the gut-brain axis to become impaired. This causes the nervous system to become hyper-responsive to food, leading to an inflammatory response. This inflammation can lead to a variety of health conditions, including irritable bowel syndrome (IBS), chronic fatigue syndrome, anxiety, depression, and more.\n",
      "The gut microbiome consists of bacteria, archaea, and viruses. It’s also called the gut microbiota or gut flora.\n",
      "The microbiome is an essential part of the human body and a key player in the gut-brain axis, which can influence a person’s health.\n",
      "The gut microbiome plays a crucial role in digestion and nutrient absorption. But, did you know that the microbiome also has a role in regulating mood and behavior?\n",
      "The relationship between the gut and the mind has been known for centuries. In fact, the gut-brain axis was even coined by Nobel Prize\n",
      "1.9383801180351885 tokens/s\n",
      "515.8946847915649 ms/token\n"
     ]
    }
   ],
   "source": [
    "now = time.time()\n",
    "sequences = pipeline(\n",
    "   \"What is \",\n",
    "    max_new_tokens=500,\n",
    "    do_sample=True,\n",
    "    top_k=10,\n",
    "    num_return_sequences=1,\n",
    "    eos_token_id=tokenizer.eos_token_id,\n",
    ")\n",
    "\n",
    "for seq in sequences:\n",
    "    print(f\"Result: {seq['generated_text']}\")\n",
    "    \n",
    "\n",
    "duration = time.time() - now\n",
    "tks=50/duration\n",
    "print(f\"{tks} tokens/s\")\n",
    "print(f\"{1/tks*1000} ms/token\")"
   ]
  },
  {
   "cell_type": "code",
   "execution_count": null,
   "id": "e7227856-52cc-4081-ba10-dd67e9eb5773",
   "metadata": {
    "tags": []
   },
   "outputs": [],
   "source": [
    "inputs = tokenizer(\"\"\"Texte:Chapitre 13 Les composantes de la légalité\n",
    "Préfixe:Chapitre 13\n",
    "###\n",
    "Texte:2.La réduction des marges de manœuvre budgétaire\n",
    "Préfixe:2.\n",
    "###\n",
    "Texte:III.\tSources du droit pénal\n",
    "Préfixe:III.\n",
    "###\n",
    "Texte:Partie 3: Décentralisation et finances publiques\n",
    "Préfixe:Partie 3:\n",
    "###\n",
    "Texte:A.L’aspect matériel\n",
    "Préfixe:\"\"\", return_tensors=\"pt\")\n",
    "input_ids = inputs.input_ids.to(\"cuda\")"
   ]
  },
  {
   "cell_type": "code",
   "execution_count": null,
   "id": "0c40715c-b818-4752-a124-84c40c0e25fa",
   "metadata": {
    "tags": []
   },
   "outputs": [],
   "source": [
    "generation_config = GenerationConfig(\n",
    "    temperature=0.1,\n",
    "    top_p=0.9,\n",
    "    num_beams=4\n",
    ")\n",
    "now = time.time()\n",
    "with torch.no_grad():\n",
    "    generation_output = model.generate(\n",
    "        input_ids=input_ids,\n",
    "        #generation_config=generation_config,\n",
    "        return_dict_in_generate=True,\n",
    "        output_scores=True,\n",
    "        max_new_tokens=100,\n",
    "    )\n",
    "duration = time.time() - now\n",
    "try:\n",
    "    s = generation_output.sequences[0]\n",
    "except:\n",
    "    s = generation_output[0]\n",
    "\n",
    "tks = (s.shape[0] - input_ids.shape[1])/duration\n",
    "print(f\"{tks} tokens/s\")\n",
    "print(f\"{1/tks*1000} ms/token\")\n",
    "output = tokenizer.decode(s)\n",
    "print(output)\n",
    "#res = prompter.get_response(output)\n",
    "#print(res)"
   ]
  },
  {
   "cell_type": "code",
   "execution_count": null,
   "id": "4621660b-ac9a-46e6-a1f9-575ca9a9501b",
   "metadata": {},
   "outputs": [],
   "source": []
  }
 ],
 "metadata": {
  "kernelspec": {
   "display_name": "Python 3 (ipykernel)",
   "language": "python",
   "name": "python3"
  },
  "language_info": {
   "codemirror_mode": {
    "name": "ipython",
    "version": 3
   },
   "file_extension": ".py",
   "mimetype": "text/x-python",
   "name": "python",
   "nbconvert_exporter": "python",
   "pygments_lexer": "ipython3",
   "version": "3.10.10"
  }
 },
 "nbformat": 4,
 "nbformat_minor": 5
}
